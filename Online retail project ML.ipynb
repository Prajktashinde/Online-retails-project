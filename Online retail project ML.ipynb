{
 "cells": [
  {
   "cell_type": "markdown",
   "id": "9861bc6a",
   "metadata": {},
   "source": [
    "# Online Retail transactions"
   ]
  },
  {
   "cell_type": "markdown",
   "id": "8de50e09",
   "metadata": {},
   "source": [
    "The \"Online Retail Transaction\" dataset contains information on transactions made by customers through an online retail platform. \n",
    "The dataset includes data on the products that were purchased, the quantity of each product, the date and time of each \n",
    "transaction, the price of each product, the unique identifier for each customer who made a purchase, and the country where \n",
    "each customer is located. This dataset can be used to analyze customer behavior and preferences, identify popular products, \n",
    "and optimize pricing and marketing strategies. The dataset is well-suited for data analysis and machine learning applications, \n",
    "as it contains a large volume of transactional data that can be used to train predictive models and make data-driven decisions."
   ]
  },
  {
   "cell_type": "markdown",
   "id": "11af71d0",
   "metadata": {},
   "source": [
    "Column Descriptors\n",
    "StockCode: A code used to identify the product that was purchased\n",
    "\n",
    "Description: A brief description of the product that was purchased\n",
    "\n",
    "Quantity: The quantity of the product that was purchased\n",
    "\n",
    "InvoiceDate: The date and time that the purchase was made\n",
    "\n",
    "UnitPrice: The price of one unit of the product that was purchased\n",
    "\n",
    "CustomerID: The unique identifier for the customer who made the purchase\n",
    "\n",
    "Country: The country where the customer who made the purchase is located"
   ]
  },
  {
   "cell_type": "markdown",
   "id": "835cc7be",
   "metadata": {},
   "source": [
    "# Import libaries"
   ]
  },
  {
   "cell_type": "code",
   "execution_count": 1,
   "id": "0f004b82",
   "metadata": {},
   "outputs": [],
   "source": [
    "import pandas as pd\n",
    "import numpy as np\n",
    "import matplotlib.pyplot as plt\n",
    "import seaborn as sns\n",
    "import plotly.express as px\n",
    "\n",
    "%matplotlib inline\n",
    "#Display all the columns of the dataframe\n",
    "pd.pandas.set_option(\"display.max_columns\", None)"
   ]
  },
  {
   "cell_type": "markdown",
   "id": "d5ce5121",
   "metadata": {},
   "source": [
    "# Reading Data Csv File"
   ]
  },
  {
   "cell_type": "code",
   "execution_count": 2,
   "id": "b4fb5aa6",
   "metadata": {},
   "outputs": [
    {
     "data": {
      "text/html": [
       "<div>\n",
       "<style scoped>\n",
       "    .dataframe tbody tr th:only-of-type {\n",
       "        vertical-align: middle;\n",
       "    }\n",
       "\n",
       "    .dataframe tbody tr th {\n",
       "        vertical-align: top;\n",
       "    }\n",
       "\n",
       "    .dataframe thead th {\n",
       "        text-align: right;\n",
       "    }\n",
       "</style>\n",
       "<table border=\"1\" class=\"dataframe\">\n",
       "  <thead>\n",
       "    <tr style=\"text-align: right;\">\n",
       "      <th></th>\n",
       "      <th>InvoiceNo</th>\n",
       "      <th>StockCode</th>\n",
       "      <th>Description</th>\n",
       "      <th>Quantity</th>\n",
       "      <th>InvoiceDate</th>\n",
       "      <th>UnitPrice</th>\n",
       "      <th>CustomerID</th>\n",
       "      <th>Country</th>\n",
       "    </tr>\n",
       "  </thead>\n",
       "  <tbody>\n",
       "    <tr>\n",
       "      <th>0</th>\n",
       "      <td>536365</td>\n",
       "      <td>85123A</td>\n",
       "      <td>WHITE HANGING HEART T-LIGHT HOLDER</td>\n",
       "      <td>6</td>\n",
       "      <td>2010-12-01 08:26:00</td>\n",
       "      <td>2.55</td>\n",
       "      <td>17850</td>\n",
       "      <td>United Kingdom</td>\n",
       "    </tr>\n",
       "    <tr>\n",
       "      <th>1</th>\n",
       "      <td>536365</td>\n",
       "      <td>71053</td>\n",
       "      <td>WHITE METAL LANTERN</td>\n",
       "      <td>6</td>\n",
       "      <td>2010-12-01 08:26:00</td>\n",
       "      <td>3.39</td>\n",
       "      <td>17850</td>\n",
       "      <td>United Kingdom</td>\n",
       "    </tr>\n",
       "    <tr>\n",
       "      <th>2</th>\n",
       "      <td>536365</td>\n",
       "      <td>84406B</td>\n",
       "      <td>CREAM CUPID HEARTS COAT HANGER</td>\n",
       "      <td>8</td>\n",
       "      <td>2010-12-01 08:26:00</td>\n",
       "      <td>2.75</td>\n",
       "      <td>17850</td>\n",
       "      <td>United Kingdom</td>\n",
       "    </tr>\n",
       "    <tr>\n",
       "      <th>3</th>\n",
       "      <td>536365</td>\n",
       "      <td>84029G</td>\n",
       "      <td>KNITTED UNION FLAG HOT WATER BOTTLE</td>\n",
       "      <td>6</td>\n",
       "      <td>2010-12-01 08:26:00</td>\n",
       "      <td>3.39</td>\n",
       "      <td>17850</td>\n",
       "      <td>United Kingdom</td>\n",
       "    </tr>\n",
       "    <tr>\n",
       "      <th>4</th>\n",
       "      <td>536365</td>\n",
       "      <td>84029E</td>\n",
       "      <td>RED WOOLLY HOTTIE WHITE HEART.</td>\n",
       "      <td>6</td>\n",
       "      <td>2010-12-01 08:26:00</td>\n",
       "      <td>3.39</td>\n",
       "      <td>17850</td>\n",
       "      <td>United Kingdom</td>\n",
       "    </tr>\n",
       "    <tr>\n",
       "      <th>...</th>\n",
       "      <td>...</td>\n",
       "      <td>...</td>\n",
       "      <td>...</td>\n",
       "      <td>...</td>\n",
       "      <td>...</td>\n",
       "      <td>...</td>\n",
       "      <td>...</td>\n",
       "      <td>...</td>\n",
       "    </tr>\n",
       "    <tr>\n",
       "      <th>541904</th>\n",
       "      <td>581587</td>\n",
       "      <td>22613</td>\n",
       "      <td>PACK OF 20 SPACEBOY NAPKINS</td>\n",
       "      <td>12</td>\n",
       "      <td>2011-12-09 12:50:00</td>\n",
       "      <td>0.85</td>\n",
       "      <td>12680</td>\n",
       "      <td>France</td>\n",
       "    </tr>\n",
       "    <tr>\n",
       "      <th>541905</th>\n",
       "      <td>581587</td>\n",
       "      <td>22899</td>\n",
       "      <td>CHILDREN'S APRON DOLLY GIRL</td>\n",
       "      <td>6</td>\n",
       "      <td>2011-12-09 12:50:00</td>\n",
       "      <td>2.10</td>\n",
       "      <td>12680</td>\n",
       "      <td>France</td>\n",
       "    </tr>\n",
       "    <tr>\n",
       "      <th>541906</th>\n",
       "      <td>581587</td>\n",
       "      <td>23254</td>\n",
       "      <td>CHILDRENS CUTLERY DOLLY GIRL</td>\n",
       "      <td>4</td>\n",
       "      <td>2011-12-09 12:50:00</td>\n",
       "      <td>4.15</td>\n",
       "      <td>12680</td>\n",
       "      <td>France</td>\n",
       "    </tr>\n",
       "    <tr>\n",
       "      <th>541907</th>\n",
       "      <td>581587</td>\n",
       "      <td>23255</td>\n",
       "      <td>CHILDRENS CUTLERY CIRCUS PARADE</td>\n",
       "      <td>4</td>\n",
       "      <td>2011-12-09 12:50:00</td>\n",
       "      <td>4.15</td>\n",
       "      <td>12680</td>\n",
       "      <td>France</td>\n",
       "    </tr>\n",
       "    <tr>\n",
       "      <th>541908</th>\n",
       "      <td>581587</td>\n",
       "      <td>22138</td>\n",
       "      <td>BAKING SET 9 PIECE RETROSPOT</td>\n",
       "      <td>3</td>\n",
       "      <td>2011-12-09 12:50:00</td>\n",
       "      <td>4.95</td>\n",
       "      <td>12680</td>\n",
       "      <td>France</td>\n",
       "    </tr>\n",
       "  </tbody>\n",
       "</table>\n",
       "<p>541909 rows × 8 columns</p>\n",
       "</div>"
      ],
      "text/plain": [
       "       InvoiceNo StockCode                          Description  Quantity  \\\n",
       "0         536365    85123A   WHITE HANGING HEART T-LIGHT HOLDER         6   \n",
       "1         536365     71053                  WHITE METAL LANTERN         6   \n",
       "2         536365    84406B       CREAM CUPID HEARTS COAT HANGER         8   \n",
       "3         536365    84029G  KNITTED UNION FLAG HOT WATER BOTTLE         6   \n",
       "4         536365    84029E       RED WOOLLY HOTTIE WHITE HEART.         6   \n",
       "...          ...       ...                                  ...       ...   \n",
       "541904    581587     22613          PACK OF 20 SPACEBOY NAPKINS        12   \n",
       "541905    581587     22899         CHILDREN'S APRON DOLLY GIRL          6   \n",
       "541906    581587     23254        CHILDRENS CUTLERY DOLLY GIRL          4   \n",
       "541907    581587     23255      CHILDRENS CUTLERY CIRCUS PARADE         4   \n",
       "541908    581587     22138        BAKING SET 9 PIECE RETROSPOT          3   \n",
       "\n",
       "                InvoiceDate  UnitPrice  CustomerID         Country  \n",
       "0       2010-12-01 08:26:00       2.55       17850  United Kingdom  \n",
       "1       2010-12-01 08:26:00       3.39       17850  United Kingdom  \n",
       "2       2010-12-01 08:26:00       2.75       17850  United Kingdom  \n",
       "3       2010-12-01 08:26:00       3.39       17850  United Kingdom  \n",
       "4       2010-12-01 08:26:00       3.39       17850  United Kingdom  \n",
       "...                     ...        ...         ...             ...  \n",
       "541904  2011-12-09 12:50:00       0.85       12680          France  \n",
       "541905  2011-12-09 12:50:00       2.10       12680          France  \n",
       "541906  2011-12-09 12:50:00       4.15       12680          France  \n",
       "541907  2011-12-09 12:50:00       4.15       12680          France  \n",
       "541908  2011-12-09 12:50:00       4.95       12680          France  \n",
       "\n",
       "[541909 rows x 8 columns]"
      ]
     },
     "execution_count": 2,
     "metadata": {},
     "output_type": "execute_result"
    }
   ],
   "source": [
    "df=pd.read_csv(\"Online Retail.csv\")\n",
    "df"
   ]
  },
  {
   "cell_type": "code",
   "execution_count": 3,
   "id": "9185494c",
   "metadata": {},
   "outputs": [
    {
     "name": "stdout",
     "output_type": "stream",
     "text": [
      "<class 'pandas.core.frame.DataFrame'>\n",
      "RangeIndex: 541909 entries, 0 to 541908\n",
      "Data columns (total 8 columns):\n",
      " #   Column       Non-Null Count   Dtype  \n",
      "---  ------       --------------   -----  \n",
      " 0   InvoiceNo    541909 non-null  object \n",
      " 1   StockCode    541909 non-null  object \n",
      " 2   Description  540455 non-null  object \n",
      " 3   Quantity     541909 non-null  int64  \n",
      " 4   InvoiceDate  541909 non-null  object \n",
      " 5   UnitPrice    541909 non-null  float64\n",
      " 6   CustomerID   541909 non-null  int64  \n",
      " 7   Country      541909 non-null  object \n",
      "dtypes: float64(1), int64(2), object(5)\n",
      "memory usage: 33.1+ MB\n"
     ]
    }
   ],
   "source": [
    "df.info()"
   ]
  },
  {
   "cell_type": "code",
   "execution_count": 4,
   "id": "c09f3c6e",
   "metadata": {},
   "outputs": [
    {
     "data": {
      "text/plain": [
       "(541909, 8)"
      ]
     },
     "execution_count": 4,
     "metadata": {},
     "output_type": "execute_result"
    }
   ],
   "source": [
    "df.shape"
   ]
  },
  {
   "cell_type": "code",
   "execution_count": 5,
   "id": "0c03726f",
   "metadata": {},
   "outputs": [
    {
     "data": {
      "text/plain": [
       "5268"
      ]
     },
     "execution_count": 5,
     "metadata": {},
     "output_type": "execute_result"
    }
   ],
   "source": [
    "#checking dublicate value\n",
    "df.duplicated().sum()"
   ]
  },
  {
   "cell_type": "code",
   "execution_count": 6,
   "id": "ca453a91",
   "metadata": {},
   "outputs": [
    {
     "name": "stdout",
     "output_type": "stream",
     "text": [
      "0.9721189350979592%\n"
     ]
    }
   ],
   "source": [
    "print(f\"{df.duplicated().mean()*100}%\")"
   ]
  },
  {
   "cell_type": "code",
   "execution_count": 7,
   "id": "02cf41be",
   "metadata": {},
   "outputs": [],
   "source": [
    "# droping Duplicated values\n",
    "df.drop_duplicates(inplace = True)"
   ]
  },
  {
   "cell_type": "markdown",
   "id": "6266f548",
   "metadata": {},
   "source": [
    "# Data cleaning "
   ]
  },
  {
   "cell_type": "markdown",
   "id": "3adfd13b",
   "metadata": {},
   "source": [
    "# Handling missing values"
   ]
  },
  {
   "cell_type": "code",
   "execution_count": 8,
   "id": "29120f98",
   "metadata": {},
   "outputs": [
    {
     "data": {
      "text/plain": [
       "InvoiceNo         0\n",
       "StockCode         0\n",
       "Description    1454\n",
       "Quantity          0\n",
       "InvoiceDate       0\n",
       "UnitPrice         0\n",
       "CustomerID        0\n",
       "Country           0\n",
       "dtype: int64"
      ]
     },
     "execution_count": 8,
     "metadata": {},
     "output_type": "execute_result"
    }
   ],
   "source": [
    "df.isnull().sum()"
   ]
  },
  {
   "cell_type": "code",
   "execution_count": 9,
   "id": "0e9cd038",
   "metadata": {},
   "outputs": [
    {
     "data": {
      "text/plain": [
       "InvoiceNo      0.000000\n",
       "StockCode      0.000000\n",
       "Description    0.002709\n",
       "Quantity       0.000000\n",
       "InvoiceDate    0.000000\n",
       "UnitPrice      0.000000\n",
       "CustomerID     0.000000\n",
       "Country        0.000000\n",
       "dtype: float64"
      ]
     },
     "execution_count": 9,
     "metadata": {},
     "output_type": "execute_result"
    }
   ],
   "source": [
    "df.isnull().mean()"
   ]
  },
  {
   "cell_type": "code",
   "execution_count": 10,
   "id": "82a8bbec",
   "metadata": {},
   "outputs": [
    {
     "data": {
      "text/plain": [
       "Description    0.002709\n",
       "InvoiceNo      0.000000\n",
       "StockCode      0.000000\n",
       "Quantity       0.000000\n",
       "InvoiceDate    0.000000\n",
       "UnitPrice      0.000000\n",
       "CustomerID     0.000000\n",
       "Country        0.000000\n",
       "dtype: float64"
      ]
     },
     "execution_count": 10,
     "metadata": {},
     "output_type": "execute_result"
    }
   ],
   "source": [
    "df.isnull().mean().sort_values(ascending=False)"
   ]
  },
  {
   "cell_type": "code",
   "execution_count": 11,
   "id": "e4526a17",
   "metadata": {},
   "outputs": [
    {
     "data": {
      "text/plain": [
       "InvoiceNo       object\n",
       "StockCode       object\n",
       "Description     object\n",
       "Quantity         int64\n",
       "InvoiceDate     object\n",
       "UnitPrice      float64\n",
       "CustomerID       int64\n",
       "Country         object\n",
       "dtype: object"
      ]
     },
     "execution_count": 11,
     "metadata": {},
     "output_type": "execute_result"
    }
   ],
   "source": [
    "df.dtypes"
   ]
  },
  {
   "cell_type": "code",
   "execution_count": 12,
   "id": "234e8d4f",
   "metadata": {},
   "outputs": [
    {
     "data": {
      "text/plain": [
       "Description    0.270945\n",
       "InvoiceNo      0.000000\n",
       "StockCode      0.000000\n",
       "dtype: float64"
      ]
     },
     "execution_count": 12,
     "metadata": {},
     "output_type": "execute_result"
    }
   ],
   "source": [
    "(df.isnull().mean().sort_values(ascending=False)[0:3])*100"
   ]
  },
  {
   "cell_type": "markdown",
   "id": "99a76f37",
   "metadata": {},
   "source": [
    "# Checking Unique values of the columns"
   ]
  },
  {
   "cell_type": "code",
   "execution_count": 13,
   "id": "bf9f8318",
   "metadata": {},
   "outputs": [
    {
     "data": {
      "text/plain": [
       "WHITE HANGING HEART T-LIGHT HOLDER     2357\n",
       "REGENCY CAKESTAND 3 TIER               2189\n",
       "JUMBO BAG RED RETROSPOT                2156\n",
       "PARTY BUNTING                          1720\n",
       "LUNCH BAG RED RETROSPOT                1625\n",
       "                                       ... \n",
       "rcvd be air temp fix for dotcom sit       1\n",
       "SET 12 COLOURING PENCILS DOILEY           1\n",
       "SET 36 COLOURING PENCILS DOILEY           1\n",
       " I LOVE LONDON MINI RUCKSACK              1\n",
       "found some more on shelf                  1\n",
       "Name: Description, Length: 4223, dtype: int64"
      ]
     },
     "execution_count": 13,
     "metadata": {},
     "output_type": "execute_result"
    }
   ],
   "source": [
    "df.Description.value_counts()"
   ]
  },
  {
   "cell_type": "code",
   "execution_count": 14,
   "id": "215d9004",
   "metadata": {},
   "outputs": [],
   "source": [
    "# Handling Null values \n",
    "df[\"Description\"].fillna(df.Description.mode()[0],inplace= True)"
   ]
  },
  {
   "cell_type": "markdown",
   "id": "4a983e25",
   "metadata": {},
   "source": [
    "Here we replaced null of Description column with the mode values. Mode value is the most repeated value of the column."
   ]
  },
  {
   "cell_type": "code",
   "execution_count": 15,
   "id": "a55a81cc",
   "metadata": {},
   "outputs": [
    {
     "data": {
      "text/html": [
       "<div>\n",
       "<style scoped>\n",
       "    .dataframe tbody tr th:only-of-type {\n",
       "        vertical-align: middle;\n",
       "    }\n",
       "\n",
       "    .dataframe tbody tr th {\n",
       "        vertical-align: top;\n",
       "    }\n",
       "\n",
       "    .dataframe thead th {\n",
       "        text-align: right;\n",
       "    }\n",
       "</style>\n",
       "<table border=\"1\" class=\"dataframe\">\n",
       "  <thead>\n",
       "    <tr style=\"text-align: right;\">\n",
       "      <th></th>\n",
       "      <th>InvoiceNo</th>\n",
       "      <th>StockCode</th>\n",
       "      <th>Description</th>\n",
       "      <th>Quantity</th>\n",
       "      <th>InvoiceDate</th>\n",
       "      <th>UnitPrice</th>\n",
       "      <th>CustomerID</th>\n",
       "      <th>Country</th>\n",
       "    </tr>\n",
       "  </thead>\n",
       "  <tbody>\n",
       "    <tr>\n",
       "      <th>0</th>\n",
       "      <td>536365</td>\n",
       "      <td>85123A</td>\n",
       "      <td>WHITE HANGING HEART T-LIGHT HOLDER</td>\n",
       "      <td>6</td>\n",
       "      <td>2010-12-01 08:26:00</td>\n",
       "      <td>2.55</td>\n",
       "      <td>17850</td>\n",
       "      <td>United Kingdom</td>\n",
       "    </tr>\n",
       "    <tr>\n",
       "      <th>1</th>\n",
       "      <td>536365</td>\n",
       "      <td>71053</td>\n",
       "      <td>WHITE METAL LANTERN</td>\n",
       "      <td>6</td>\n",
       "      <td>2010-12-01 08:26:00</td>\n",
       "      <td>3.39</td>\n",
       "      <td>17850</td>\n",
       "      <td>United Kingdom</td>\n",
       "    </tr>\n",
       "    <tr>\n",
       "      <th>2</th>\n",
       "      <td>536365</td>\n",
       "      <td>84406B</td>\n",
       "      <td>CREAM CUPID HEARTS COAT HANGER</td>\n",
       "      <td>8</td>\n",
       "      <td>2010-12-01 08:26:00</td>\n",
       "      <td>2.75</td>\n",
       "      <td>17850</td>\n",
       "      <td>United Kingdom</td>\n",
       "    </tr>\n",
       "    <tr>\n",
       "      <th>3</th>\n",
       "      <td>536365</td>\n",
       "      <td>84029G</td>\n",
       "      <td>KNITTED UNION FLAG HOT WATER BOTTLE</td>\n",
       "      <td>6</td>\n",
       "      <td>2010-12-01 08:26:00</td>\n",
       "      <td>3.39</td>\n",
       "      <td>17850</td>\n",
       "      <td>United Kingdom</td>\n",
       "    </tr>\n",
       "    <tr>\n",
       "      <th>4</th>\n",
       "      <td>536365</td>\n",
       "      <td>84029E</td>\n",
       "      <td>RED WOOLLY HOTTIE WHITE HEART.</td>\n",
       "      <td>6</td>\n",
       "      <td>2010-12-01 08:26:00</td>\n",
       "      <td>3.39</td>\n",
       "      <td>17850</td>\n",
       "      <td>United Kingdom</td>\n",
       "    </tr>\n",
       "    <tr>\n",
       "      <th>...</th>\n",
       "      <td>...</td>\n",
       "      <td>...</td>\n",
       "      <td>...</td>\n",
       "      <td>...</td>\n",
       "      <td>...</td>\n",
       "      <td>...</td>\n",
       "      <td>...</td>\n",
       "      <td>...</td>\n",
       "    </tr>\n",
       "    <tr>\n",
       "      <th>541904</th>\n",
       "      <td>581587</td>\n",
       "      <td>22613</td>\n",
       "      <td>PACK OF 20 SPACEBOY NAPKINS</td>\n",
       "      <td>12</td>\n",
       "      <td>2011-12-09 12:50:00</td>\n",
       "      <td>0.85</td>\n",
       "      <td>12680</td>\n",
       "      <td>France</td>\n",
       "    </tr>\n",
       "    <tr>\n",
       "      <th>541905</th>\n",
       "      <td>581587</td>\n",
       "      <td>22899</td>\n",
       "      <td>CHILDREN'S APRON DOLLY GIRL</td>\n",
       "      <td>6</td>\n",
       "      <td>2011-12-09 12:50:00</td>\n",
       "      <td>2.10</td>\n",
       "      <td>12680</td>\n",
       "      <td>France</td>\n",
       "    </tr>\n",
       "    <tr>\n",
       "      <th>541906</th>\n",
       "      <td>581587</td>\n",
       "      <td>23254</td>\n",
       "      <td>CHILDRENS CUTLERY DOLLY GIRL</td>\n",
       "      <td>4</td>\n",
       "      <td>2011-12-09 12:50:00</td>\n",
       "      <td>4.15</td>\n",
       "      <td>12680</td>\n",
       "      <td>France</td>\n",
       "    </tr>\n",
       "    <tr>\n",
       "      <th>541907</th>\n",
       "      <td>581587</td>\n",
       "      <td>23255</td>\n",
       "      <td>CHILDRENS CUTLERY CIRCUS PARADE</td>\n",
       "      <td>4</td>\n",
       "      <td>2011-12-09 12:50:00</td>\n",
       "      <td>4.15</td>\n",
       "      <td>12680</td>\n",
       "      <td>France</td>\n",
       "    </tr>\n",
       "    <tr>\n",
       "      <th>541908</th>\n",
       "      <td>581587</td>\n",
       "      <td>22138</td>\n",
       "      <td>BAKING SET 9 PIECE RETROSPOT</td>\n",
       "      <td>3</td>\n",
       "      <td>2011-12-09 12:50:00</td>\n",
       "      <td>4.95</td>\n",
       "      <td>12680</td>\n",
       "      <td>France</td>\n",
       "    </tr>\n",
       "  </tbody>\n",
       "</table>\n",
       "<p>536641 rows × 8 columns</p>\n",
       "</div>"
      ],
      "text/plain": [
       "       InvoiceNo StockCode                          Description  Quantity  \\\n",
       "0         536365    85123A   WHITE HANGING HEART T-LIGHT HOLDER         6   \n",
       "1         536365     71053                  WHITE METAL LANTERN         6   \n",
       "2         536365    84406B       CREAM CUPID HEARTS COAT HANGER         8   \n",
       "3         536365    84029G  KNITTED UNION FLAG HOT WATER BOTTLE         6   \n",
       "4         536365    84029E       RED WOOLLY HOTTIE WHITE HEART.         6   \n",
       "...          ...       ...                                  ...       ...   \n",
       "541904    581587     22613          PACK OF 20 SPACEBOY NAPKINS        12   \n",
       "541905    581587     22899         CHILDREN'S APRON DOLLY GIRL          6   \n",
       "541906    581587     23254        CHILDRENS CUTLERY DOLLY GIRL          4   \n",
       "541907    581587     23255      CHILDRENS CUTLERY CIRCUS PARADE         4   \n",
       "541908    581587     22138        BAKING SET 9 PIECE RETROSPOT          3   \n",
       "\n",
       "                InvoiceDate  UnitPrice  CustomerID         Country  \n",
       "0       2010-12-01 08:26:00       2.55       17850  United Kingdom  \n",
       "1       2010-12-01 08:26:00       3.39       17850  United Kingdom  \n",
       "2       2010-12-01 08:26:00       2.75       17850  United Kingdom  \n",
       "3       2010-12-01 08:26:00       3.39       17850  United Kingdom  \n",
       "4       2010-12-01 08:26:00       3.39       17850  United Kingdom  \n",
       "...                     ...        ...         ...             ...  \n",
       "541904  2011-12-09 12:50:00       0.85       12680          France  \n",
       "541905  2011-12-09 12:50:00       2.10       12680          France  \n",
       "541906  2011-12-09 12:50:00       4.15       12680          France  \n",
       "541907  2011-12-09 12:50:00       4.15       12680          France  \n",
       "541908  2011-12-09 12:50:00       4.95       12680          France  \n",
       "\n",
       "[536641 rows x 8 columns]"
      ]
     },
     "execution_count": 15,
     "metadata": {},
     "output_type": "execute_result"
    }
   ],
   "source": [
    "df"
   ]
  },
  {
   "cell_type": "code",
   "execution_count": 16,
   "id": "d824e651",
   "metadata": {},
   "outputs": [
    {
     "data": {
      "text/html": [
       "<div>\n",
       "<style scoped>\n",
       "    .dataframe tbody tr th:only-of-type {\n",
       "        vertical-align: middle;\n",
       "    }\n",
       "\n",
       "    .dataframe tbody tr th {\n",
       "        vertical-align: top;\n",
       "    }\n",
       "\n",
       "    .dataframe thead th {\n",
       "        text-align: right;\n",
       "    }\n",
       "</style>\n",
       "<table border=\"1\" class=\"dataframe\">\n",
       "  <thead>\n",
       "    <tr style=\"text-align: right;\">\n",
       "      <th></th>\n",
       "      <th>Quantity</th>\n",
       "      <th>UnitPrice</th>\n",
       "      <th>CustomerID</th>\n",
       "    </tr>\n",
       "  </thead>\n",
       "  <tbody>\n",
       "    <tr>\n",
       "      <th>count</th>\n",
       "      <td>536641.000000</td>\n",
       "      <td>536641.000000</td>\n",
       "      <td>536641.000000</td>\n",
       "    </tr>\n",
       "    <tr>\n",
       "      <th>mean</th>\n",
       "      <td>9.620029</td>\n",
       "      <td>4.632656</td>\n",
       "      <td>15282.630153</td>\n",
       "    </tr>\n",
       "    <tr>\n",
       "      <th>std</th>\n",
       "      <td>219.130156</td>\n",
       "      <td>97.233118</td>\n",
       "      <td>1482.756881</td>\n",
       "    </tr>\n",
       "    <tr>\n",
       "      <th>min</th>\n",
       "      <td>-80995.000000</td>\n",
       "      <td>-11062.060000</td>\n",
       "      <td>12346.000000</td>\n",
       "    </tr>\n",
       "    <tr>\n",
       "      <th>25%</th>\n",
       "      <td>1.000000</td>\n",
       "      <td>1.250000</td>\n",
       "      <td>14367.000000</td>\n",
       "    </tr>\n",
       "    <tr>\n",
       "      <th>50%</th>\n",
       "      <td>3.000000</td>\n",
       "      <td>2.080000</td>\n",
       "      <td>15287.000000</td>\n",
       "    </tr>\n",
       "    <tr>\n",
       "      <th>75%</th>\n",
       "      <td>10.000000</td>\n",
       "      <td>4.130000</td>\n",
       "      <td>16241.000000</td>\n",
       "    </tr>\n",
       "    <tr>\n",
       "      <th>max</th>\n",
       "      <td>80995.000000</td>\n",
       "      <td>38970.000000</td>\n",
       "      <td>18287.000000</td>\n",
       "    </tr>\n",
       "  </tbody>\n",
       "</table>\n",
       "</div>"
      ],
      "text/plain": [
       "            Quantity      UnitPrice     CustomerID\n",
       "count  536641.000000  536641.000000  536641.000000\n",
       "mean        9.620029       4.632656   15282.630153\n",
       "std       219.130156      97.233118    1482.756881\n",
       "min    -80995.000000  -11062.060000   12346.000000\n",
       "25%         1.000000       1.250000   14367.000000\n",
       "50%         3.000000       2.080000   15287.000000\n",
       "75%        10.000000       4.130000   16241.000000\n",
       "max     80995.000000   38970.000000   18287.000000"
      ]
     },
     "execution_count": 16,
     "metadata": {},
     "output_type": "execute_result"
    }
   ],
   "source": [
    "df.describe()"
   ]
  },
  {
   "cell_type": "code",
   "execution_count": 17,
   "id": "0a1a8280",
   "metadata": {},
   "outputs": [
    {
     "data": {
      "text/plain": [
       "<AxesSubplot:>"
      ]
     },
     "execution_count": 17,
     "metadata": {},
     "output_type": "execute_result"
    },
    {
     "data": {
      "image/png": "[encoded data removed]",
      "text/plain": [
       "<Figure size 432x288 with 2 Axes>"
      ]
     },
     "metadata": {
      "needs_background": "light"
     },
     "output_type": "display_data"
    }
   ],
   "source": [
    "sns.heatmap(df.isna())"
   ]
  },
  {
   "cell_type": "code",
   "execution_count": 18,
   "id": "1a734991",
   "metadata": {},
   "outputs": [],
   "source": [
    "df.dropna(inplace = True)"
   ]
  },
  {
   "cell_type": "code",
   "execution_count": 19,
   "id": "a5c247dc",
   "metadata": {},
   "outputs": [
    {
     "data": {
      "text/plain": [
       "InvoiceNo      25900\n",
       "StockCode       4070\n",
       "Description     4223\n",
       "Quantity         722\n",
       "InvoiceDate    23260\n",
       "UnitPrice       1630\n",
       "CustomerID      4372\n",
       "Country           38\n",
       "dtype: int64"
      ]
     },
     "execution_count": 19,
     "metadata": {},
     "output_type": "execute_result"
    }
   ],
   "source": [
    "df.nunique()"
   ]
  },
  {
   "cell_type": "code",
   "execution_count": 20,
   "id": "00a66322",
   "metadata": {},
   "outputs": [
    {
     "name": "stdout",
     "output_type": "stream",
     "text": [
      "------------InvoiceNo-----------------------\n",
      "573585     1114\n",
      "581219      749\n",
      "581492      731\n",
      "580729      721\n",
      "558475      705\n",
      "           ... \n",
      "570518        1\n",
      "C550935       1\n",
      "550937        1\n",
      "550940        1\n",
      "C558901       1\n",
      "Name: InvoiceNo, Length: 25900, dtype: int64\n",
      "-----------------------------------------\n",
      "------------StockCode-----------------------\n",
      "85123A    2301\n",
      "22423     2192\n",
      "85099B    2156\n",
      "47566     1720\n",
      "20725     1626\n",
      "          ... \n",
      "72781        1\n",
      "35015        1\n",
      "72793        1\n",
      "72789        1\n",
      "90091        1\n",
      "Name: StockCode, Length: 4070, dtype: int64\n",
      "-----------------------------------------\n",
      "------------Description-----------------------\n",
      "WHITE HANGING HEART T-LIGHT HOLDER     3811\n",
      "REGENCY CAKESTAND 3 TIER               2189\n",
      "JUMBO BAG RED RETROSPOT                2156\n",
      "PARTY BUNTING                          1720\n",
      "LUNCH BAG RED RETROSPOT                1625\n",
      "                                       ... \n",
      "rcvd be air temp fix for dotcom sit       1\n",
      "SET 12 COLOURING PENCILS DOILEY           1\n",
      "SET 36 COLOURING PENCILS DOILEY           1\n",
      " I LOVE LONDON MINI RUCKSACK              1\n",
      "found some more on shelf                  1\n",
      "Name: Description, Length: 4223, dtype: int64\n",
      "-----------------------------------------\n",
      "------------Quantity-----------------------\n",
      " 1        144495\n",
      " 2         81245\n",
      " 12        60858\n",
      " 6         40656\n",
      " 4         38393\n",
      "           ...  \n",
      "-472           1\n",
      "-161           1\n",
      "-1206          1\n",
      "-272           1\n",
      "-80995         1\n",
      "Name: Quantity, Length: 722, dtype: int64\n",
      "-----------------------------------------\n",
      "------------InvoiceDate-----------------------\n",
      "2011-10-31 14:41:00    1114\n",
      "2011-12-08 09:28:00     749\n",
      "2011-12-09 10:03:00     731\n",
      "2011-12-05 17:24:00     721\n",
      "2011-06-29 15:58:00     705\n",
      "                       ... \n",
      "2011-07-21 17:32:00       1\n",
      "2011-10-20 14:12:00       1\n",
      "2011-10-20 14:10:00       1\n",
      "2011-02-14 09:44:00       1\n",
      "2011-10-27 11:11:00       1\n",
      "Name: InvoiceDate, Length: 23260, dtype: int64\n",
      "-----------------------------------------\n",
      "------------UnitPrice-----------------------\n",
      "1.25      49750\n",
      "1.65      37627\n",
      "0.85      28182\n",
      "2.95      27350\n",
      "0.42      24277\n",
      "          ...  \n",
      "46.86         1\n",
      "28.66         1\n",
      "156.45        1\n",
      "11.00         1\n",
      "224.69        1\n",
      "Name: UnitPrice, Length: 1630, dtype: int64\n",
      "-----------------------------------------\n",
      "------------CustomerID-----------------------\n",
      "15287    135058\n",
      "17841      7812\n",
      "14911      5898\n",
      "14096      5128\n",
      "12748      4459\n",
      "          ...  \n",
      "17065         1\n",
      "17291         1\n",
      "15668         1\n",
      "13154         1\n",
      "14424         1\n",
      "Name: CustomerID, Length: 4372, dtype: int64\n",
      "-----------------------------------------\n",
      "------------Country-----------------------\n",
      "United Kingdom          490300\n",
      "Germany                   9480\n",
      "France                    8541\n",
      "EIRE                      8184\n",
      "Spain                     2528\n",
      "Netherlands               2371\n",
      "Belgium                   2069\n",
      "Switzerland               1994\n",
      "Portugal                  1510\n",
      "Australia                 1258\n",
      "Norway                    1086\n",
      "Italy                      803\n",
      "Channel Islands            757\n",
      "Finland                    695\n",
      "Cyprus                     611\n",
      "Sweden                     461\n",
      "Unspecified                442\n",
      "Austria                    401\n",
      "Denmark                    389\n",
      "Japan                      358\n",
      "Poland                     341\n",
      "Israel                     294\n",
      "USA                        291\n",
      "Hong Kong                  284\n",
      "Singapore                  229\n",
      "Iceland                    182\n",
      "Canada                     151\n",
      "Greece                     146\n",
      "Malta                      127\n",
      "United Arab Emirates        68\n",
      "European Community          61\n",
      "RSA                         58\n",
      "Lebanon                     45\n",
      "Lithuania                   35\n",
      "Brazil                      32\n",
      "Czech Republic              30\n",
      "Bahrain                     19\n",
      "Saudi Arabia                10\n",
      "Name: Country, dtype: int64\n",
      "-----------------------------------------\n"
     ]
    }
   ],
   "source": [
    "for i in df.columns:\n",
    "    print(f\"------------{i}-----------------------\")\n",
    "    print(df[i].value_counts())\n",
    "    print(\"-----------------------------------------\")"
   ]
  },
  {
   "cell_type": "code",
   "execution_count": 21,
   "id": "ffc0774b",
   "metadata": {},
   "outputs": [
    {
     "name": "stderr",
     "output_type": "stream",
     "text": [
      "C:\\Users\\asus\\AppData\\Local\\Temp\\ipykernel_9864\\192890578.py:3: FutureWarning: Series.dt.weekofyear and Series.dt.week have been deprecated. Please use Series.dt.isocalendar().week instead.\n",
      "  df['Week'] = pd.to_datetime(df[\"InvoiceDate\"]).dt.week\n"
     ]
    }
   ],
   "source": [
    "df['Year'] = pd.to_datetime(df[\"InvoiceDate\"]).dt.year\n",
    "df['Month'] = pd.to_datetime(df[\"InvoiceDate\"]).dt.month_name()\n",
    "df['Week'] = pd.to_datetime(df[\"InvoiceDate\"]).dt.week\n",
    "df['day'] = pd.to_datetime(df[\"InvoiceDate\"]).dt.day\n",
    "df['Weekday'] = pd.to_datetime(df[\"InvoiceDate\"]).dt.weekday\n",
    "df[\"Day_Name\"] = pd.to_datetime(df[\"InvoiceDate\"]).dt.day_name()"
   ]
  },
  {
   "cell_type": "code",
   "execution_count": 22,
   "id": "ee99d5d1",
   "metadata": {},
   "outputs": [],
   "source": [
    "# Create new column with time interval labels\n",
    "df['Time'] = pd.to_datetime(df['InvoiceDate']).dt.hour\n",
    "df['Time of Day'] = ['Early Morning' if x < 6 \n",
    "                     else ('Morning' if x < 12 \n",
    "                           else ('Noon' if x < 14 \n",
    "                                 else ('Afternoon' if x < 18 \n",
    "                                       else ('Evening' if x < 22 else 'Night')))) for x in df['Time']]"
   ]
  },
  {
   "cell_type": "markdown",
   "id": "5b0d0c90",
   "metadata": {},
   "source": [
    "# Create a Sales Columns"
   ]
  },
  {
   "cell_type": "code",
   "execution_count": 23,
   "id": "5db53581",
   "metadata": {},
   "outputs": [
    {
     "data": {
      "text/plain": [
       "0    15.30\n",
       "1    20.34\n",
       "2    22.00\n",
       "3    20.34\n",
       "4    20.34\n",
       "Name: Sales, dtype: float64"
      ]
     },
     "execution_count": 23,
     "metadata": {},
     "output_type": "execute_result"
    }
   ],
   "source": [
    "df['Sales'] = df['Quantity'] * df['UnitPrice']\n",
    "df['Sales'].head()"
   ]
  },
  {
   "cell_type": "code",
   "execution_count": 24,
   "id": "63cf9e7b",
   "metadata": {},
   "outputs": [
    {
     "data": {
      "text/html": [
       "<div>\n",
       "<style scoped>\n",
       "    .dataframe tbody tr th:only-of-type {\n",
       "        vertical-align: middle;\n",
       "    }\n",
       "\n",
       "    .dataframe tbody tr th {\n",
       "        vertical-align: top;\n",
       "    }\n",
       "\n",
       "    .dataframe thead th {\n",
       "        text-align: right;\n",
       "    }\n",
       "</style>\n",
       "<table border=\"1\" class=\"dataframe\">\n",
       "  <thead>\n",
       "    <tr style=\"text-align: right;\">\n",
       "      <th></th>\n",
       "      <th>InvoiceNo</th>\n",
       "      <th>StockCode</th>\n",
       "      <th>Description</th>\n",
       "      <th>Quantity</th>\n",
       "      <th>InvoiceDate</th>\n",
       "      <th>UnitPrice</th>\n",
       "      <th>CustomerID</th>\n",
       "      <th>Country</th>\n",
       "      <th>Year</th>\n",
       "      <th>Month</th>\n",
       "      <th>Week</th>\n",
       "      <th>day</th>\n",
       "      <th>Weekday</th>\n",
       "      <th>Day_Name</th>\n",
       "      <th>Time</th>\n",
       "      <th>Time of Day</th>\n",
       "      <th>Sales</th>\n",
       "    </tr>\n",
       "  </thead>\n",
       "  <tbody>\n",
       "    <tr>\n",
       "      <th>0</th>\n",
       "      <td>536365</td>\n",
       "      <td>85123A</td>\n",
       "      <td>WHITE HANGING HEART T-LIGHT HOLDER</td>\n",
       "      <td>6</td>\n",
       "      <td>2010-12-01 08:26:00</td>\n",
       "      <td>2.55</td>\n",
       "      <td>17850</td>\n",
       "      <td>United Kingdom</td>\n",
       "      <td>2010</td>\n",
       "      <td>December</td>\n",
       "      <td>48</td>\n",
       "      <td>1</td>\n",
       "      <td>2</td>\n",
       "      <td>Wednesday</td>\n",
       "      <td>8</td>\n",
       "      <td>Morning</td>\n",
       "      <td>15.30</td>\n",
       "    </tr>\n",
       "    <tr>\n",
       "      <th>1</th>\n",
       "      <td>536365</td>\n",
       "      <td>71053</td>\n",
       "      <td>WHITE METAL LANTERN</td>\n",
       "      <td>6</td>\n",
       "      <td>2010-12-01 08:26:00</td>\n",
       "      <td>3.39</td>\n",
       "      <td>17850</td>\n",
       "      <td>United Kingdom</td>\n",
       "      <td>2010</td>\n",
       "      <td>December</td>\n",
       "      <td>48</td>\n",
       "      <td>1</td>\n",
       "      <td>2</td>\n",
       "      <td>Wednesday</td>\n",
       "      <td>8</td>\n",
       "      <td>Morning</td>\n",
       "      <td>20.34</td>\n",
       "    </tr>\n",
       "    <tr>\n",
       "      <th>2</th>\n",
       "      <td>536365</td>\n",
       "      <td>84406B</td>\n",
       "      <td>CREAM CUPID HEARTS COAT HANGER</td>\n",
       "      <td>8</td>\n",
       "      <td>2010-12-01 08:26:00</td>\n",
       "      <td>2.75</td>\n",
       "      <td>17850</td>\n",
       "      <td>United Kingdom</td>\n",
       "      <td>2010</td>\n",
       "      <td>December</td>\n",
       "      <td>48</td>\n",
       "      <td>1</td>\n",
       "      <td>2</td>\n",
       "      <td>Wednesday</td>\n",
       "      <td>8</td>\n",
       "      <td>Morning</td>\n",
       "      <td>22.00</td>\n",
       "    </tr>\n",
       "    <tr>\n",
       "      <th>3</th>\n",
       "      <td>536365</td>\n",
       "      <td>84029G</td>\n",
       "      <td>KNITTED UNION FLAG HOT WATER BOTTLE</td>\n",
       "      <td>6</td>\n",
       "      <td>2010-12-01 08:26:00</td>\n",
       "      <td>3.39</td>\n",
       "      <td>17850</td>\n",
       "      <td>United Kingdom</td>\n",
       "      <td>2010</td>\n",
       "      <td>December</td>\n",
       "      <td>48</td>\n",
       "      <td>1</td>\n",
       "      <td>2</td>\n",
       "      <td>Wednesday</td>\n",
       "      <td>8</td>\n",
       "      <td>Morning</td>\n",
       "      <td>20.34</td>\n",
       "    </tr>\n",
       "    <tr>\n",
       "      <th>4</th>\n",
       "      <td>536365</td>\n",
       "      <td>84029E</td>\n",
       "      <td>RED WOOLLY HOTTIE WHITE HEART.</td>\n",
       "      <td>6</td>\n",
       "      <td>2010-12-01 08:26:00</td>\n",
       "      <td>3.39</td>\n",
       "      <td>17850</td>\n",
       "      <td>United Kingdom</td>\n",
       "      <td>2010</td>\n",
       "      <td>December</td>\n",
       "      <td>48</td>\n",
       "      <td>1</td>\n",
       "      <td>2</td>\n",
       "      <td>Wednesday</td>\n",
       "      <td>8</td>\n",
       "      <td>Morning</td>\n",
       "      <td>20.34</td>\n",
       "    </tr>\n",
       "    <tr>\n",
       "      <th>...</th>\n",
       "      <td>...</td>\n",
       "      <td>...</td>\n",
       "      <td>...</td>\n",
       "      <td>...</td>\n",
       "      <td>...</td>\n",
       "      <td>...</td>\n",
       "      <td>...</td>\n",
       "      <td>...</td>\n",
       "      <td>...</td>\n",
       "      <td>...</td>\n",
       "      <td>...</td>\n",
       "      <td>...</td>\n",
       "      <td>...</td>\n",
       "      <td>...</td>\n",
       "      <td>...</td>\n",
       "      <td>...</td>\n",
       "      <td>...</td>\n",
       "    </tr>\n",
       "    <tr>\n",
       "      <th>541904</th>\n",
       "      <td>581587</td>\n",
       "      <td>22613</td>\n",
       "      <td>PACK OF 20 SPACEBOY NAPKINS</td>\n",
       "      <td>12</td>\n",
       "      <td>2011-12-09 12:50:00</td>\n",
       "      <td>0.85</td>\n",
       "      <td>12680</td>\n",
       "      <td>France</td>\n",
       "      <td>2011</td>\n",
       "      <td>December</td>\n",
       "      <td>49</td>\n",
       "      <td>9</td>\n",
       "      <td>4</td>\n",
       "      <td>Friday</td>\n",
       "      <td>12</td>\n",
       "      <td>Noon</td>\n",
       "      <td>10.20</td>\n",
       "    </tr>\n",
       "    <tr>\n",
       "      <th>541905</th>\n",
       "      <td>581587</td>\n",
       "      <td>22899</td>\n",
       "      <td>CHILDREN'S APRON DOLLY GIRL</td>\n",
       "      <td>6</td>\n",
       "      <td>2011-12-09 12:50:00</td>\n",
       "      <td>2.10</td>\n",
       "      <td>12680</td>\n",
       "      <td>France</td>\n",
       "      <td>2011</td>\n",
       "      <td>December</td>\n",
       "      <td>49</td>\n",
       "      <td>9</td>\n",
       "      <td>4</td>\n",
       "      <td>Friday</td>\n",
       "      <td>12</td>\n",
       "      <td>Noon</td>\n",
       "      <td>12.60</td>\n",
       "    </tr>\n",
       "    <tr>\n",
       "      <th>541906</th>\n",
       "      <td>581587</td>\n",
       "      <td>23254</td>\n",
       "      <td>CHILDRENS CUTLERY DOLLY GIRL</td>\n",
       "      <td>4</td>\n",
       "      <td>2011-12-09 12:50:00</td>\n",
       "      <td>4.15</td>\n",
       "      <td>12680</td>\n",
       "      <td>France</td>\n",
       "      <td>2011</td>\n",
       "      <td>December</td>\n",
       "      <td>49</td>\n",
       "      <td>9</td>\n",
       "      <td>4</td>\n",
       "      <td>Friday</td>\n",
       "      <td>12</td>\n",
       "      <td>Noon</td>\n",
       "      <td>16.60</td>\n",
       "    </tr>\n",
       "    <tr>\n",
       "      <th>541907</th>\n",
       "      <td>581587</td>\n",
       "      <td>23255</td>\n",
       "      <td>CHILDRENS CUTLERY CIRCUS PARADE</td>\n",
       "      <td>4</td>\n",
       "      <td>2011-12-09 12:50:00</td>\n",
       "      <td>4.15</td>\n",
       "      <td>12680</td>\n",
       "      <td>France</td>\n",
       "      <td>2011</td>\n",
       "      <td>December</td>\n",
       "      <td>49</td>\n",
       "      <td>9</td>\n",
       "      <td>4</td>\n",
       "      <td>Friday</td>\n",
       "      <td>12</td>\n",
       "      <td>Noon</td>\n",
       "      <td>16.60</td>\n",
       "    </tr>\n",
       "    <tr>\n",
       "      <th>541908</th>\n",
       "      <td>581587</td>\n",
       "      <td>22138</td>\n",
       "      <td>BAKING SET 9 PIECE RETROSPOT</td>\n",
       "      <td>3</td>\n",
       "      <td>2011-12-09 12:50:00</td>\n",
       "      <td>4.95</td>\n",
       "      <td>12680</td>\n",
       "      <td>France</td>\n",
       "      <td>2011</td>\n",
       "      <td>December</td>\n",
       "      <td>49</td>\n",
       "      <td>9</td>\n",
       "      <td>4</td>\n",
       "      <td>Friday</td>\n",
       "      <td>12</td>\n",
       "      <td>Noon</td>\n",
       "      <td>14.85</td>\n",
       "    </tr>\n",
       "  </tbody>\n",
       "</table>\n",
       "<p>536641 rows × 17 columns</p>\n",
       "</div>"
      ],
      "text/plain": [
       "       InvoiceNo StockCode                          Description  Quantity  \\\n",
       "0         536365    85123A   WHITE HANGING HEART T-LIGHT HOLDER         6   \n",
       "1         536365     71053                  WHITE METAL LANTERN         6   \n",
       "2         536365    84406B       CREAM CUPID HEARTS COAT HANGER         8   \n",
       "3         536365    84029G  KNITTED UNION FLAG HOT WATER BOTTLE         6   \n",
       "4         536365    84029E       RED WOOLLY HOTTIE WHITE HEART.         6   \n",
       "...          ...       ...                                  ...       ...   \n",
       "541904    581587     22613          PACK OF 20 SPACEBOY NAPKINS        12   \n",
       "541905    581587     22899         CHILDREN'S APRON DOLLY GIRL          6   \n",
       "541906    581587     23254        CHILDRENS CUTLERY DOLLY GIRL          4   \n",
       "541907    581587     23255      CHILDRENS CUTLERY CIRCUS PARADE         4   \n",
       "541908    581587     22138        BAKING SET 9 PIECE RETROSPOT          3   \n",
       "\n",
       "                InvoiceDate  UnitPrice  CustomerID         Country  Year  \\\n",
       "0       2010-12-01 08:26:00       2.55       17850  United Kingdom  2010   \n",
       "1       2010-12-01 08:26:00       3.39       17850  United Kingdom  2010   \n",
       "2       2010-12-01 08:26:00       2.75       17850  United Kingdom  2010   \n",
       "3       2010-12-01 08:26:00       3.39       17850  United Kingdom  2010   \n",
       "4       2010-12-01 08:26:00       3.39       17850  United Kingdom  2010   \n",
       "...                     ...        ...         ...             ...   ...   \n",
       "541904  2011-12-09 12:50:00       0.85       12680          France  2011   \n",
       "541905  2011-12-09 12:50:00       2.10       12680          France  2011   \n",
       "541906  2011-12-09 12:50:00       4.15       12680          France  2011   \n",
       "541907  2011-12-09 12:50:00       4.15       12680          France  2011   \n",
       "541908  2011-12-09 12:50:00       4.95       12680          France  2011   \n",
       "\n",
       "           Month  Week  day  Weekday   Day_Name  Time Time of Day  Sales  \n",
       "0       December    48    1        2  Wednesday     8     Morning  15.30  \n",
       "1       December    48    1        2  Wednesday     8     Morning  20.34  \n",
       "2       December    48    1        2  Wednesday     8     Morning  22.00  \n",
       "3       December    48    1        2  Wednesday     8     Morning  20.34  \n",
       "4       December    48    1        2  Wednesday     8     Morning  20.34  \n",
       "...          ...   ...  ...      ...        ...   ...         ...    ...  \n",
       "541904  December    49    9        4     Friday    12        Noon  10.20  \n",
       "541905  December    49    9        4     Friday    12        Noon  12.60  \n",
       "541906  December    49    9        4     Friday    12        Noon  16.60  \n",
       "541907  December    49    9        4     Friday    12        Noon  16.60  \n",
       "541908  December    49    9        4     Friday    12        Noon  14.85  \n",
       "\n",
       "[536641 rows x 17 columns]"
      ]
     },
     "execution_count": 24,
     "metadata": {},
     "output_type": "execute_result"
    }
   ],
   "source": [
    "df"
   ]
  },
  {
   "cell_type": "code",
   "execution_count": 25,
   "id": "eb5cff6b",
   "metadata": {},
   "outputs": [
    {
     "data": {
      "text/html": [
       "<div>\n",
       "<style scoped>\n",
       "    .dataframe tbody tr th:only-of-type {\n",
       "        vertical-align: middle;\n",
       "    }\n",
       "\n",
       "    .dataframe tbody tr th {\n",
       "        vertical-align: top;\n",
       "    }\n",
       "\n",
       "    .dataframe thead th {\n",
       "        text-align: right;\n",
       "    }\n",
       "</style>\n",
       "<table border=\"1\" class=\"dataframe\">\n",
       "  <thead>\n",
       "    <tr style=\"text-align: right;\">\n",
       "      <th></th>\n",
       "      <th>Quantity</th>\n",
       "      <th>UnitPrice</th>\n",
       "      <th>CustomerID</th>\n",
       "      <th>Year</th>\n",
       "      <th>Week</th>\n",
       "      <th>day</th>\n",
       "      <th>Weekday</th>\n",
       "      <th>Time</th>\n",
       "      <th>Sales</th>\n",
       "    </tr>\n",
       "  </thead>\n",
       "  <tbody>\n",
       "    <tr>\n",
       "      <th>count</th>\n",
       "      <td>536641.000000</td>\n",
       "      <td>536641.000000</td>\n",
       "      <td>536641.000000</td>\n",
       "      <td>536641.000000</td>\n",
       "      <td>536641.000000</td>\n",
       "      <td>536641.000000</td>\n",
       "      <td>536641.000000</td>\n",
       "      <td>536641.000000</td>\n",
       "      <td>536641.000000</td>\n",
       "    </tr>\n",
       "    <tr>\n",
       "      <th>mean</th>\n",
       "      <td>9.620029</td>\n",
       "      <td>4.632656</td>\n",
       "      <td>15282.630153</td>\n",
       "      <td>2010.921771</td>\n",
       "      <td>30.694116</td>\n",
       "      <td>15.024640</td>\n",
       "      <td>2.423889</td>\n",
       "      <td>13.077154</td>\n",
       "      <td>18.123861</td>\n",
       "    </tr>\n",
       "    <tr>\n",
       "      <th>std</th>\n",
       "      <td>219.130156</td>\n",
       "      <td>97.233118</td>\n",
       "      <td>1482.756881</td>\n",
       "      <td>0.268532</td>\n",
       "      <td>15.145369</td>\n",
       "      <td>8.663351</td>\n",
       "      <td>1.839870</td>\n",
       "      <td>2.447505</td>\n",
       "      <td>380.656263</td>\n",
       "    </tr>\n",
       "    <tr>\n",
       "      <th>min</th>\n",
       "      <td>-80995.000000</td>\n",
       "      <td>-11062.060000</td>\n",
       "      <td>12346.000000</td>\n",
       "      <td>2010.000000</td>\n",
       "      <td>1.000000</td>\n",
       "      <td>1.000000</td>\n",
       "      <td>0.000000</td>\n",
       "      <td>6.000000</td>\n",
       "      <td>-168469.600000</td>\n",
       "    </tr>\n",
       "    <tr>\n",
       "      <th>25%</th>\n",
       "      <td>1.000000</td>\n",
       "      <td>1.250000</td>\n",
       "      <td>14367.000000</td>\n",
       "      <td>2011.000000</td>\n",
       "      <td>18.000000</td>\n",
       "      <td>7.000000</td>\n",
       "      <td>1.000000</td>\n",
       "      <td>11.000000</td>\n",
       "      <td>3.750000</td>\n",
       "    </tr>\n",
       "    <tr>\n",
       "      <th>50%</th>\n",
       "      <td>3.000000</td>\n",
       "      <td>2.080000</td>\n",
       "      <td>15287.000000</td>\n",
       "      <td>2011.000000</td>\n",
       "      <td>34.000000</td>\n",
       "      <td>15.000000</td>\n",
       "      <td>2.000000</td>\n",
       "      <td>13.000000</td>\n",
       "      <td>9.870000</td>\n",
       "    </tr>\n",
       "    <tr>\n",
       "      <th>75%</th>\n",
       "      <td>10.000000</td>\n",
       "      <td>4.130000</td>\n",
       "      <td>16241.000000</td>\n",
       "      <td>2011.000000</td>\n",
       "      <td>45.000000</td>\n",
       "      <td>22.000000</td>\n",
       "      <td>4.000000</td>\n",
       "      <td>15.000000</td>\n",
       "      <td>17.400000</td>\n",
       "    </tr>\n",
       "    <tr>\n",
       "      <th>max</th>\n",
       "      <td>80995.000000</td>\n",
       "      <td>38970.000000</td>\n",
       "      <td>18287.000000</td>\n",
       "      <td>2011.000000</td>\n",
       "      <td>51.000000</td>\n",
       "      <td>31.000000</td>\n",
       "      <td>6.000000</td>\n",
       "      <td>20.000000</td>\n",
       "      <td>168469.600000</td>\n",
       "    </tr>\n",
       "  </tbody>\n",
       "</table>\n",
       "</div>"
      ],
      "text/plain": [
       "            Quantity      UnitPrice     CustomerID           Year  \\\n",
       "count  536641.000000  536641.000000  536641.000000  536641.000000   \n",
       "mean        9.620029       4.632656   15282.630153    2010.921771   \n",
       "std       219.130156      97.233118    1482.756881       0.268532   \n",
       "min    -80995.000000  -11062.060000   12346.000000    2010.000000   \n",
       "25%         1.000000       1.250000   14367.000000    2011.000000   \n",
       "50%         3.000000       2.080000   15287.000000    2011.000000   \n",
       "75%        10.000000       4.130000   16241.000000    2011.000000   \n",
       "max     80995.000000   38970.000000   18287.000000    2011.000000   \n",
       "\n",
       "                Week            day        Weekday           Time  \\\n",
       "count  536641.000000  536641.000000  536641.000000  536641.000000   \n",
       "mean       30.694116      15.024640       2.423889      13.077154   \n",
       "std        15.145369       8.663351       1.839870       2.447505   \n",
       "min         1.000000       1.000000       0.000000       6.000000   \n",
       "25%        18.000000       7.000000       1.000000      11.000000   \n",
       "50%        34.000000      15.000000       2.000000      13.000000   \n",
       "75%        45.000000      22.000000       4.000000      15.000000   \n",
       "max        51.000000      31.000000       6.000000      20.000000   \n",
       "\n",
       "               Sales  \n",
       "count  536641.000000  \n",
       "mean       18.123861  \n",
       "std       380.656263  \n",
       "min   -168469.600000  \n",
       "25%         3.750000  \n",
       "50%         9.870000  \n",
       "75%        17.400000  \n",
       "max    168469.600000  "
      ]
     },
     "execution_count": 25,
     "metadata": {},
     "output_type": "execute_result"
    }
   ],
   "source": [
    "df.describe()"
   ]
  },
  {
   "cell_type": "markdown",
   "id": "04ebb17e",
   "metadata": {},
   "source": [
    "# Explaratory Data Analysis (EDA)"
   ]
  },
  {
   "cell_type": "code",
   "execution_count": null,
   "id": "f0ed5d7d",
   "metadata": {},
   "outputs": [],
   "source": []
  },
  {
   "cell_type": "markdown",
   "id": "55ea3bf2",
   "metadata": {},
   "source": [
    "1.CustomerID with the highest Quantity"
   ]
  },
  {
   "cell_type": "code",
   "execution_count": 26,
   "id": "bbd92cb7",
   "metadata": {},
   "outputs": [
    {
     "name": "stdout",
     "output_type": "stream",
     "text": [
      "CustomerID 16446  bought the highest quantity of 80995.\n"
     ]
    }
   ],
   "source": [
    "# sort the dataframe by Quantity in descending order\n",
    "sorted_df = df.sort_values(by=['Quantity'], ascending=False)\n",
    "\n",
    "# get the CustomerID with the highest Quantity\n",
    "customer_id = sorted_df.iloc[0]['CustomerID']\n",
    "highest_quantity = sorted_df.iloc[0]['Quantity']\n",
    "\n",
    "print(f\"CustomerID {customer_id}  bought the highest quantity of {highest_quantity}.\")"
   ]
  },
  {
   "cell_type": "markdown",
   "id": "f8787413",
   "metadata": {},
   "source": [
    "2.Top 10 customers by Quantity"
   ]
  },
  {
   "cell_type": "code",
   "execution_count": 27,
   "id": "9755f530",
   "metadata": {},
   "outputs": [
    {
     "name": "stdout",
     "output_type": "stream",
     "text": [
      "Top 10 Customers by Quantity:\n",
      "CustomerID\n",
      "15287    270083\n",
      "14646    196719\n",
      "12415     77242\n",
      "14911     77155\n",
      "17450     69009\n",
      "18102     64122\n",
      "17511     63012\n",
      "13694     61899\n",
      "14298     58021\n",
      "14156     56908\n",
      "Name: Quantity, dtype: int64\n"
     ]
    }
   ],
   "source": [
    "cust_totals = df.groupby('CustomerID')['Quantity'].sum()\n",
    "\n",
    "# sort the customer_totals by Quantity in descending order\n",
    "sorted_totals = cust_totals.sort_values(ascending=False)\n",
    "\n",
    "# get the top 10 customer IDs\n",
    "top_10_customers = sorted_totals.head(10)\n",
    "\n",
    "print(\"Top 10 Customers by Quantity:\")\n",
    "print(top_10_customers)"
   ]
  },
  {
   "cell_type": "markdown",
   "id": "98b2d637",
   "metadata": {},
   "source": [
    "3.Plot top 10 customer by quantity"
   ]
  },
  {
   "cell_type": "code",
   "execution_count": 28,
   "id": "4ff0910d",
   "metadata": {},
   "outputs": [
    {
     "data": {
      "image/png": "[encoded data removed]",
      "text/plain": [
       "<Figure size 432x288 with 1 Axes>"
      ]
     },
     "metadata": {
      "needs_background": "light"
     },
     "output_type": "display_data"
    }
   ],
   "source": [
    "sorted_totals.head(10).plot(kind=\"bar\")\n",
    "plt.legend()\n",
    "plt.show()"
   ]
  },
  {
   "cell_type": "code",
   "execution_count": 29,
   "id": "1f8eada3",
   "metadata": {},
   "outputs": [
    {
     "name": "stderr",
     "output_type": "stream",
     "text": [
      "No artists with labels found to put in legend.  Note that artists whose label start with an underscore are ignored when legend() is called with no argument.\n"
     ]
    },
    {
     "data": {
      "image/png": "[encoded data removed]",
      "text/plain": [
       "<Figure size 432x288 with 1 Axes>"
      ]
     },
     "metadata": {
      "needs_background": "light"
     },
     "output_type": "display_data"
    }
   ],
   "source": [
    "sns.countplot(data= df, x= \"Time of Day\")\n",
    "plt.legend()\n",
    "plt.show()"
   ]
  },
  {
   "cell_type": "markdown",
   "id": "61334bbe",
   "metadata": {},
   "source": [
    "5.Time of Day pieChart"
   ]
  },
  {
   "cell_type": "code",
   "execution_count": 30,
   "id": "ae62f611",
   "metadata": {},
   "outputs": [
    {
     "data": {
      "image/png": "[encoded data removed]",
      "text/plain": [
       "<Figure size 432x288 with 1 Axes>"
      ]
     },
     "metadata": {},
     "output_type": "display_data"
    }
   ],
   "source": [
    "counts = df['Time of Day'].value_counts()\n",
    "\n",
    "# Data\n",
    "labels = counts.index.tolist()\n",
    "sizes = counts.tolist()\n",
    "colors = ['red', 'green', 'orange', 'lightskyblue']\n",
    "explode = (0.1, 0, 0, 0)  # explode 1st slice\n",
    "\n",
    "# Plot\n",
    "plt.pie(sizes, explode=explode, labels=labels, colors=colors,\n",
    "        autopct='%1.1f%%', shadow=True, startangle=140)\n",
    "plt.title('Time of Day Distribution')\n",
    "\n",
    "plt.axis('equal')\n",
    "plt.legend(title='Time of Day', loc='best', bbox_to_anchor=(1, 0.5))\n",
    "plt.show()\n"
   ]
  }
 ],
 "metadata": {
  "kernelspec": {
   "display_name": "Python 3 (ipykernel)",
   "language": "python",
   "name": "python3"
  },
  "language_info": {
   "codemirror_mode": {
    "name": "ipython",
    "version": 3
   },
   "file_extension": ".py",
   "mimetype": "text/x-python",
   "name": "python",
   "nbconvert_exporter": "python",
   "pygments_lexer": "ipython3",
   "version": "3.9.12"
  }
 },
 "nbformat": 4,
 "nbformat_minor": 5
}
